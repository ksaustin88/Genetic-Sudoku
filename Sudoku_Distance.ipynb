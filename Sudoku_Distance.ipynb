{
 "cells": [
  {
   "cell_type": "code",
   "execution_count": 20,
   "metadata": {},
   "outputs": [],
   "source": [
    "from functions.sudoku import Sudoku"
   ]
  },
  {
   "cell_type": "code",
   "execution_count": 25,
   "metadata": {},
   "outputs": [],
   "source": [
    "def transposition_distance(list_a, list_b):\n",
    "    ''' \n",
    "    list_a and list_b both contain permutations of the number 1 through 9\n",
    "    Finds the minimal number of tranpositions needed to transform list_a into list_b '''\n",
    "    differences = [i for i in range(9) if list_a[i] != list_b[i]]\n",
    "    count = 0\n",
    "    while len(differences) > 0:\n",
    "        b_values = [list_b[differences[0]]]\n",
    "        a_slots = [list_a.index(b_values[-1])]\n",
    "        while list_b[a_slots[-1]] not in b_values:\n",
    "            count += 1\n",
    "            b_values.append(list_b[a_slots[-1]])\n",
    "            a_slots.append(list_a.index(b_values[-1]))\n",
    "        differences = [x for x in differences if x not in a_slots]\n",
    "    return count"
   ]
  },
  {
   "cell_type": "code",
   "execution_count": 26,
   "metadata": {},
   "outputs": [
    {
     "data": {
      "text/plain": [
       "3"
      ]
     },
     "execution_count": 26,
     "metadata": {},
     "output_type": "execute_result"
    }
   ],
   "source": [
    "transposition_distance([1,2,3,4,5,6,7,8,9], [3,2,4,1,5,7,6,8,9])"
   ]
  },
  {
   "cell_type": "code",
   "execution_count": 27,
   "metadata": {},
   "outputs": [],
   "source": [
    "import random"
   ]
  },
  {
   "cell_type": "code",
   "execution_count": 28,
   "metadata": {},
   "outputs": [],
   "source": [
    "list_a = random.sample(range(1,10), 9)\n",
    "list_b = random.sample(range(1,10), 9)"
   ]
  },
  {
   "cell_type": "code",
   "execution_count": 29,
   "metadata": {},
   "outputs": [
    {
     "data": {
      "text/plain": [
       "[7, 1, 4, 2, 6, 3, 9, 5, 8]"
      ]
     },
     "execution_count": 29,
     "metadata": {},
     "output_type": "execute_result"
    }
   ],
   "source": [
    "list_a"
   ]
  },
  {
   "cell_type": "code",
   "execution_count": 30,
   "metadata": {},
   "outputs": [
    {
     "data": {
      "text/plain": [
       "[1, 5, 7, 6, 2, 8, 9, 3, 4]"
      ]
     },
     "execution_count": 30,
     "metadata": {},
     "output_type": "execute_result"
    }
   ],
   "source": [
    "list_b"
   ]
  },
  {
   "cell_type": "code",
   "execution_count": 31,
   "metadata": {},
   "outputs": [
    {
     "data": {
      "text/plain": [
       "6"
      ]
     },
     "execution_count": 31,
     "metadata": {},
     "output_type": "execute_result"
    }
   ],
   "source": [
    "transposition_distance(list_a, list_b)"
   ]
  },
  {
   "cell_type": "code",
   "execution_count": 32,
   "metadata": {},
   "outputs": [],
   "source": [
    "def sudoku_distance(sudoku_a, sudoku_b):\n",
    "    distance = 0\n",
    "    for i in range(9):\n",
    "        distance += transposition_distance(sudoku_a.values[i], sudoku_b.values[i])\n",
    "    return distance"
   ]
  },
  {
   "cell_type": "code",
   "execution_count": 36,
   "metadata": {},
   "outputs": [],
   "source": [
    "sudoku_a = Sudoku([[1, 6, 8, 2, 9, 7, 5, 4, 3],\n",
    " [3, 2, 5, 6, 1, 4, 7, 8, 9],\n",
    " [9, 4, 7, 3, 8, 5, 1, 2, 6],\n",
    " [5, 3, 1, 9, 8, 2, 7, 6, 4],\n",
    " [6, 9, 4, 5, 7, 1, 8, 3, 2],\n",
    " [7, 8, 2, 4, 3, 6, 9, 1, 5],\n",
    " [2, 7, 6, 1, 5, 9, 4, 3, 8],\n",
    " [1, 8, 9, 6, 4, 3, 2, 5, 7],\n",
    " [4, 5, 3, 7, 2, 8, 6, 9, 1]])"
   ]
  },
  {
   "cell_type": "code",
   "execution_count": 37,
   "metadata": {},
   "outputs": [],
   "source": [
    "sudoku_b = Sudoku([[6, 1, 8, 2, 9, 7, 5, 4, 3],\n",
    " [3, 2, 5, 6, 1, 4, 7, 8, 9],\n",
    " [9, 4, 7, 3, 8, 5, 1, 2, 6],\n",
    " [5, 3, 1, 9, 8, 2, 7, 6, 4],\n",
    " [6, 9, 4, 5, 7, 1, 8, 3, 2],\n",
    " [7, 8, 2, 4, 3, 6, 9, 1, 5],\n",
    " [2, 7, 6, 1, 5, 9, 4, 3, 8],\n",
    " [1, 8, 9, 6, 4, 3, 2, 5, 7],\n",
    " [4, 5, 3, 7, 2, 8, 6, 9, 1]])"
   ]
  },
  {
   "cell_type": "code",
   "execution_count": 38,
   "metadata": {},
   "outputs": [
    {
     "data": {
      "text/plain": [
       "1"
      ]
     },
     "execution_count": 38,
     "metadata": {},
     "output_type": "execute_result"
    }
   ],
   "source": [
    "sudoku_distance(sudoku_a, sudoku_b)"
   ]
  },
  {
   "cell_type": "code",
   "execution_count": null,
   "metadata": {},
   "outputs": [],
   "source": []
  }
 ],
 "metadata": {
  "kernelspec": {
   "display_name": "Python 3",
   "language": "python",
   "name": "python3"
  },
  "language_info": {
   "codemirror_mode": {
    "name": "ipython",
    "version": 3
   },
   "file_extension": ".py",
   "mimetype": "text/x-python",
   "name": "python",
   "nbconvert_exporter": "python",
   "pygments_lexer": "ipython3",
   "version": "3.5.2"
  }
 },
 "nbformat": 4,
 "nbformat_minor": 2
}
