{
 "cells": [
  {
   "cell_type": "code",
   "execution_count": 6,
   "metadata": {},
   "outputs": [],
   "source": [
    "from functions.sudoku import Sudoku"
   ]
  },
  {
   "cell_type": "code",
   "execution_count": 7,
   "metadata": {},
   "outputs": [],
   "source": [
    "values = [[1, 7, 3, 5, 4, 2, 8, 9, 6],\n",
    " [2, 6, 9, 8, 1, 7, 4, 5, 3],\n",
    " [8, 4, 5, 9, 3, 6, 1, 2, 7],\n",
    " [5, 3, 6, 7, 9, 1, 2, 4, 8],\n",
    " [7, 8, 1, 4, 2, 5, 6, 3, 9],\n",
    " [9, 2, 4, 6, 8, 3, 7, 1, 5],\n",
    " [4, 9, 7, 1, 5, 8, 3, 6, 2],\n",
    " [6, 5, 2, 3, 7, 4, 9, 8, 1],\n",
    " [3, 1, 8, 2, 6, 9, 5, 7, 4]]"
   ]
  },
  {
   "cell_type": "code",
   "execution_count": 8,
   "metadata": {},
   "outputs": [],
   "source": [
    "sudoku = Sudoku(values)"
   ]
  },
  {
   "cell_type": "code",
   "execution_count": 9,
   "metadata": {},
   "outputs": [],
   "source": [
    "class GenSolver:\n",
    "    def __init__(self, sudoku, pop_size = 10):\n",
    "        self.initial_sudoku = sudoku\n",
    "        self.pop_size = pop_size\n",
    "        self.population = [Sudoku(self.fill_sudoku_random(sudoku)) for _ in range(self.pop_size)]\n",
    "        \n",
    "    def fill_row_random(self, row):\n",
    "        import random\n",
    "        new_row = list()\n",
    "        missing_values = set(range(1,10)).difference(set(row))\n",
    "        rearranged = random.sample(missing_values, len(missing_values))\n",
    "        for i in range(9):\n",
    "            if row[i] == 0:\n",
    "                new_row.append(rearranged.pop())\n",
    "            else:\n",
    "                new_row.append(row[i])\n",
    "        return new_row\n",
    "        \n",
    "    def fill_sudoku_random(self, sudoku):\n",
    "        import random       \n",
    "        filled_sudoku = list()\n",
    "        \n",
    "        for row in sudoku.values:\n",
    "            filled_sudoku.append(self.fill_row_random(row))\n",
    "        return filled_sudoku\n",
    "    \n",
    "    def crossover(self, pa, ma):\n",
    "        import random\n",
    "        swapped_rows = random.sample(range(9), random.randint(1,8))\n",
    "        bro = list()\n",
    "        sis = list()\n",
    "        for i in range(9):\n",
    "            if i in swapped_rows:\n",
    "                bro.append(ma.values[i])\n",
    "                sis.append(pa.values[i])\n",
    "            else:\n",
    "                bro.append(pa.values[i])\n",
    "                sis.append(ma.values[i])\n",
    "        return Sudoku(bro), Sudoku(sis)\n",
    "    \n",
    "    def mutate(self, sudoku):\n",
    "        import random\n",
    "        mutated_rows = random.sample(range(9), random.randint(1,9))\n",
    "        mutated = list()\n",
    "        for i in range(9):\n",
    "            if i in mutated_rows:\n",
    "                mutated.append(self.fill_row_random(self.initial_sudoku.values[i]))\n",
    "            else:\n",
    "                mutated.append(sudoku.values[i])\n",
    "        return Sudoku(mutated)\n",
    "    \n",
    "    def tournament_select(self):\n",
    "        import random\n",
    "        competitors = random.sample(self.population, 2)\n",
    "        if competitors[0].cost < competitors[1].cost:\n",
    "            return competitors[0]\n",
    "        else:\n",
    "            return competitors[1]\n",
    "    \n",
    "    def make_new_population(self, mutation_prob = 0.4):\n",
    "        import random\n",
    "        import numpy as np\n",
    "        new_pop = []\n",
    "        # Keep the best two - this guarantees that the new population is no worse as the previous one\n",
    "        new_pop.extend([self.population[x] for x in np.argsort([sud.cost for sud in self.population])[:2]])\n",
    "        for i in range(int(self.pop_size / 2) - 1):\n",
    "            ma = self.tournament_select()\n",
    "            pa = self.tournament_select()\n",
    "            #If ma and pa are identical, breed with a random one instead sometimes\n",
    "            #if ma.values == pa.values and random.random() < 0.5:\n",
    "            #    pa = Sudoku(self.fill_sudoku_random(self.initial_sudoku))\n",
    "            bro, sis = self.crossover(ma, pa)\n",
    "            if random.random() < mutation_prob: \n",
    "                bro = self.mutate(bro)\n",
    "            if random.random() < mutation_prob: \n",
    "                sis = self.mutate(sis)\n",
    "            new_pop.extend([bro,sis])\n",
    "        self.population = new_pop"
   ]
  },
  {
   "cell_type": "code",
   "execution_count": 10,
   "metadata": {},
   "outputs": [],
   "source": [
    "easy = [[0,0,0,0,0,8,5,4,3],\n",
    "       [0,2,5,6,1,0,7,0,9],\n",
    "       [0,0,0,0,0,0,0,2,6],\n",
    "       [0,3,0,0,0,2,0,6,7],\n",
    "       [0,0,0,5,7,1,0,0,0],\n",
    "       [7,8,0,4,0,0,0,1,0],\n",
    "       [2,7,0,0,0,0,0,0,0],\n",
    "       [1,0,9,0,4,3,2,5,0],\n",
    "       [4,5,3,8,0,0,0,0,0]]"
   ]
  },
  {
   "cell_type": "code",
   "execution_count": 11,
   "metadata": {},
   "outputs": [],
   "source": [
    "gs = GenSolver(Sudoku(easy), pop_size=100)"
   ]
  },
  {
   "cell_type": "code",
   "execution_count": 12,
   "metadata": {},
   "outputs": [
    {
     "data": {
      "text/plain": [
       "34"
      ]
     },
     "execution_count": 12,
     "metadata": {},
     "output_type": "execute_result"
    }
   ],
   "source": [
    "min([x.cost for x in gs.population])"
   ]
  },
  {
   "cell_type": "code",
   "execution_count": 13,
   "metadata": {
    "scrolled": true
   },
   "outputs": [
    {
     "name": "stdout",
     "output_type": "stream",
     "text": [
      "28\n",
      "28\n",
      "28\n",
      "27\n",
      "27\n",
      "24\n",
      "24\n",
      "24\n",
      "24\n",
      "24\n",
      "24\n",
      "24\n",
      "24\n",
      "24\n",
      "22\n",
      "22\n",
      "22\n",
      "22\n",
      "20\n",
      "20\n",
      "20\n",
      "20\n",
      "20\n",
      "20\n",
      "20\n",
      "20\n",
      "20\n",
      "20\n",
      "20\n",
      "19\n",
      "19\n",
      "19\n"
     ]
    },
    {
     "ename": "KeyboardInterrupt",
     "evalue": "",
     "output_type": "error",
     "traceback": [
      "\u001b[0;31m---------------------------------------------------------------------------\u001b[0m",
      "\u001b[0;31mKeyboardInterrupt\u001b[0m                         Traceback (most recent call last)",
      "\u001b[0;32m<ipython-input-13-5d926e977f61>\u001b[0m in \u001b[0;36m<module>\u001b[0;34m\u001b[0m\n\u001b[1;32m      1\u001b[0m \u001b[0;32mwhile\u001b[0m \u001b[0;34m(\u001b[0m\u001b[0mmin\u001b[0m\u001b[0;34m(\u001b[0m\u001b[0;34m[\u001b[0m\u001b[0mx\u001b[0m\u001b[0;34m.\u001b[0m\u001b[0mcost\u001b[0m \u001b[0;32mfor\u001b[0m \u001b[0mx\u001b[0m \u001b[0;32min\u001b[0m \u001b[0mgs\u001b[0m\u001b[0;34m.\u001b[0m\u001b[0mpopulation\u001b[0m\u001b[0;34m]\u001b[0m\u001b[0;34m)\u001b[0m \u001b[0;34m>\u001b[0m \u001b[0;36m0\u001b[0m\u001b[0;34m)\u001b[0m\u001b[0;34m:\u001b[0m\u001b[0;34m\u001b[0m\u001b[0m\n\u001b[0;32m----> 2\u001b[0;31m     \u001b[0mgs\u001b[0m\u001b[0;34m.\u001b[0m\u001b[0mmake_new_population\u001b[0m\u001b[0;34m(\u001b[0m\u001b[0;34m)\u001b[0m\u001b[0;34m\u001b[0m\u001b[0m\n\u001b[0m\u001b[1;32m      3\u001b[0m     \u001b[0mprint\u001b[0m\u001b[0;34m(\u001b[0m\u001b[0mmin\u001b[0m\u001b[0;34m(\u001b[0m\u001b[0;34m[\u001b[0m\u001b[0mx\u001b[0m\u001b[0;34m.\u001b[0m\u001b[0mcost\u001b[0m \u001b[0;32mfor\u001b[0m \u001b[0mx\u001b[0m \u001b[0;32min\u001b[0m \u001b[0mgs\u001b[0m\u001b[0;34m.\u001b[0m\u001b[0mpopulation\u001b[0m\u001b[0;34m]\u001b[0m\u001b[0;34m)\u001b[0m\u001b[0;34m)\u001b[0m\u001b[0;34m\u001b[0m\u001b[0m\n",
      "\u001b[0;32m<ipython-input-9-5913a10b8968>\u001b[0m in \u001b[0;36mmake_new_population\u001b[0;34m(self, mutation_prob)\u001b[0m\n\u001b[1;32m     74\u001b[0m                 \u001b[0mbro\u001b[0m \u001b[0;34m=\u001b[0m \u001b[0mself\u001b[0m\u001b[0;34m.\u001b[0m\u001b[0mmutate\u001b[0m\u001b[0;34m(\u001b[0m\u001b[0mbro\u001b[0m\u001b[0;34m)\u001b[0m\u001b[0;34m\u001b[0m\u001b[0m\n\u001b[1;32m     75\u001b[0m             \u001b[0;32mif\u001b[0m \u001b[0mrandom\u001b[0m\u001b[0;34m.\u001b[0m\u001b[0mrandom\u001b[0m\u001b[0;34m(\u001b[0m\u001b[0;34m)\u001b[0m \u001b[0;34m<\u001b[0m \u001b[0mmutation_prob\u001b[0m\u001b[0;34m:\u001b[0m\u001b[0;34m\u001b[0m\u001b[0m\n\u001b[0;32m---> 76\u001b[0;31m                 \u001b[0msis\u001b[0m \u001b[0;34m=\u001b[0m \u001b[0mself\u001b[0m\u001b[0;34m.\u001b[0m\u001b[0mmutate\u001b[0m\u001b[0;34m(\u001b[0m\u001b[0msis\u001b[0m\u001b[0;34m)\u001b[0m\u001b[0;34m\u001b[0m\u001b[0m\n\u001b[0m\u001b[1;32m     77\u001b[0m             \u001b[0mnew_pop\u001b[0m\u001b[0;34m.\u001b[0m\u001b[0mextend\u001b[0m\u001b[0;34m(\u001b[0m\u001b[0;34m[\u001b[0m\u001b[0mbro\u001b[0m\u001b[0;34m,\u001b[0m\u001b[0msis\u001b[0m\u001b[0;34m]\u001b[0m\u001b[0;34m)\u001b[0m\u001b[0;34m\u001b[0m\u001b[0m\n\u001b[1;32m     78\u001b[0m         \u001b[0mself\u001b[0m\u001b[0;34m.\u001b[0m\u001b[0mpopulation\u001b[0m \u001b[0;34m=\u001b[0m \u001b[0mnew_pop\u001b[0m\u001b[0;34m\u001b[0m\u001b[0m\n",
      "\u001b[0;32m<ipython-input-9-5913a10b8968>\u001b[0m in \u001b[0;36mmutate\u001b[0;34m(self, sudoku)\u001b[0m\n\u001b[1;32m     45\u001b[0m         \u001b[0;32mfor\u001b[0m \u001b[0mi\u001b[0m \u001b[0;32min\u001b[0m \u001b[0mrange\u001b[0m\u001b[0;34m(\u001b[0m\u001b[0;36m9\u001b[0m\u001b[0;34m)\u001b[0m\u001b[0;34m:\u001b[0m\u001b[0;34m\u001b[0m\u001b[0m\n\u001b[1;32m     46\u001b[0m             \u001b[0;32mif\u001b[0m \u001b[0mi\u001b[0m \u001b[0;32min\u001b[0m \u001b[0mmutated_rows\u001b[0m\u001b[0;34m:\u001b[0m\u001b[0;34m\u001b[0m\u001b[0m\n\u001b[0;32m---> 47\u001b[0;31m                 \u001b[0mmutated\u001b[0m\u001b[0;34m.\u001b[0m\u001b[0mappend\u001b[0m\u001b[0;34m(\u001b[0m\u001b[0mself\u001b[0m\u001b[0;34m.\u001b[0m\u001b[0mfill_row_random\u001b[0m\u001b[0;34m(\u001b[0m\u001b[0mself\u001b[0m\u001b[0;34m.\u001b[0m\u001b[0minitial_sudoku\u001b[0m\u001b[0;34m.\u001b[0m\u001b[0mvalues\u001b[0m\u001b[0;34m[\u001b[0m\u001b[0mi\u001b[0m\u001b[0;34m]\u001b[0m\u001b[0;34m)\u001b[0m\u001b[0;34m)\u001b[0m\u001b[0;34m\u001b[0m\u001b[0m\n\u001b[0m\u001b[1;32m     48\u001b[0m             \u001b[0;32melse\u001b[0m\u001b[0;34m:\u001b[0m\u001b[0;34m\u001b[0m\u001b[0m\n\u001b[1;32m     49\u001b[0m                 \u001b[0mmutated\u001b[0m\u001b[0;34m.\u001b[0m\u001b[0mappend\u001b[0m\u001b[0;34m(\u001b[0m\u001b[0msudoku\u001b[0m\u001b[0;34m.\u001b[0m\u001b[0mvalues\u001b[0m\u001b[0;34m[\u001b[0m\u001b[0mi\u001b[0m\u001b[0;34m]\u001b[0m\u001b[0;34m)\u001b[0m\u001b[0;34m\u001b[0m\u001b[0m\n",
      "\u001b[0;32m<ipython-input-9-5913a10b8968>\u001b[0m in \u001b[0;36mfill_row_random\u001b[0;34m(self, row)\u001b[0m\n\u001b[1;32m      9\u001b[0m         \u001b[0mnew_row\u001b[0m \u001b[0;34m=\u001b[0m \u001b[0mlist\u001b[0m\u001b[0;34m(\u001b[0m\u001b[0;34m)\u001b[0m\u001b[0;34m\u001b[0m\u001b[0m\n\u001b[1;32m     10\u001b[0m         \u001b[0mmissing_values\u001b[0m \u001b[0;34m=\u001b[0m \u001b[0mset\u001b[0m\u001b[0;34m(\u001b[0m\u001b[0mrange\u001b[0m\u001b[0;34m(\u001b[0m\u001b[0;36m1\u001b[0m\u001b[0;34m,\u001b[0m\u001b[0;36m10\u001b[0m\u001b[0;34m)\u001b[0m\u001b[0;34m)\u001b[0m\u001b[0;34m.\u001b[0m\u001b[0mdifference\u001b[0m\u001b[0;34m(\u001b[0m\u001b[0mset\u001b[0m\u001b[0;34m(\u001b[0m\u001b[0mrow\u001b[0m\u001b[0;34m)\u001b[0m\u001b[0;34m)\u001b[0m\u001b[0;34m\u001b[0m\u001b[0m\n\u001b[0;32m---> 11\u001b[0;31m         \u001b[0mrearranged\u001b[0m \u001b[0;34m=\u001b[0m \u001b[0mrandom\u001b[0m\u001b[0;34m.\u001b[0m\u001b[0msample\u001b[0m\u001b[0;34m(\u001b[0m\u001b[0mmissing_values\u001b[0m\u001b[0;34m,\u001b[0m \u001b[0mlen\u001b[0m\u001b[0;34m(\u001b[0m\u001b[0mmissing_values\u001b[0m\u001b[0;34m)\u001b[0m\u001b[0;34m)\u001b[0m\u001b[0;34m\u001b[0m\u001b[0m\n\u001b[0m\u001b[1;32m     12\u001b[0m         \u001b[0;32mfor\u001b[0m \u001b[0mi\u001b[0m \u001b[0;32min\u001b[0m \u001b[0mrange\u001b[0m\u001b[0;34m(\u001b[0m\u001b[0;36m9\u001b[0m\u001b[0;34m)\u001b[0m\u001b[0;34m:\u001b[0m\u001b[0;34m\u001b[0m\u001b[0m\n\u001b[1;32m     13\u001b[0m             \u001b[0;32mif\u001b[0m \u001b[0mrow\u001b[0m\u001b[0;34m[\u001b[0m\u001b[0mi\u001b[0m\u001b[0;34m]\u001b[0m \u001b[0;34m==\u001b[0m \u001b[0;36m0\u001b[0m\u001b[0;34m:\u001b[0m\u001b[0;34m\u001b[0m\u001b[0m\n",
      "\u001b[0;32m/usr/lib/python3.5/random.py\u001b[0m in \u001b[0;36msample\u001b[0;34m(self, population, k)\u001b[0m\n\u001b[1;32m    322\u001b[0m             \u001b[0mpool\u001b[0m \u001b[0;34m=\u001b[0m \u001b[0mlist\u001b[0m\u001b[0;34m(\u001b[0m\u001b[0mpopulation\u001b[0m\u001b[0;34m)\u001b[0m\u001b[0;34m\u001b[0m\u001b[0m\n\u001b[1;32m    323\u001b[0m             \u001b[0;32mfor\u001b[0m \u001b[0mi\u001b[0m \u001b[0;32min\u001b[0m \u001b[0mrange\u001b[0m\u001b[0;34m(\u001b[0m\u001b[0mk\u001b[0m\u001b[0;34m)\u001b[0m\u001b[0;34m:\u001b[0m         \u001b[0;31m# invariant:  non-selected at [0,n-i)\u001b[0m\u001b[0;34m\u001b[0m\u001b[0m\n\u001b[0;32m--> 324\u001b[0;31m                 \u001b[0mj\u001b[0m \u001b[0;34m=\u001b[0m \u001b[0mrandbelow\u001b[0m\u001b[0;34m(\u001b[0m\u001b[0mn\u001b[0m\u001b[0;34m-\u001b[0m\u001b[0mi\u001b[0m\u001b[0;34m)\u001b[0m\u001b[0;34m\u001b[0m\u001b[0m\n\u001b[0m\u001b[1;32m    325\u001b[0m                 \u001b[0mresult\u001b[0m\u001b[0;34m[\u001b[0m\u001b[0mi\u001b[0m\u001b[0;34m]\u001b[0m \u001b[0;34m=\u001b[0m \u001b[0mpool\u001b[0m\u001b[0;34m[\u001b[0m\u001b[0mj\u001b[0m\u001b[0;34m]\u001b[0m\u001b[0;34m\u001b[0m\u001b[0m\n\u001b[1;32m    326\u001b[0m                 \u001b[0mpool\u001b[0m\u001b[0;34m[\u001b[0m\u001b[0mj\u001b[0m\u001b[0;34m]\u001b[0m \u001b[0;34m=\u001b[0m \u001b[0mpool\u001b[0m\u001b[0;34m[\u001b[0m\u001b[0mn\u001b[0m\u001b[0;34m-\u001b[0m\u001b[0mi\u001b[0m\u001b[0;34m-\u001b[0m\u001b[0;36m1\u001b[0m\u001b[0;34m]\u001b[0m   \u001b[0;31m# move non-selected item into vacancy\u001b[0m\u001b[0;34m\u001b[0m\u001b[0m\n",
      "\u001b[0;31mKeyboardInterrupt\u001b[0m: "
     ]
    }
   ],
   "source": [
    "while (min([x.cost for x in gs.population]) > 0):\n",
    "    gs.make_new_population()\n",
    "    print(min([x.cost for x in gs.population]))"
   ]
  },
  {
   "cell_type": "code",
   "execution_count": 233,
   "metadata": {},
   "outputs": [
    {
     "data": {
      "text/plain": [
       "98"
      ]
     },
     "execution_count": 233,
     "metadata": {},
     "output_type": "execute_result"
    }
   ],
   "source": [
    "len(gs.population)"
   ]
  },
  {
   "cell_type": "code",
   "execution_count": 162,
   "metadata": {},
   "outputs": [
    {
     "data": {
      "text/plain": [
       "[[6, 8, 3, 4, 2, 1, 5, 7, 9],\n",
       " [5, 2, 3, 9, 4, 8, 7, 6, 1],\n",
       " [7, 9, 4, 6, 3, 8, 5, 1, 2],\n",
       " [4, 5, 6, 1, 7, 2, 9, 8, 3],\n",
       " [2, 5, 3, 9, 7, 6, 4, 1, 8],\n",
       " [2, 1, 8, 6, 7, 4, 3, 9, 5],\n",
       " [3, 2, 9, 8, 1, 7, 5, 4, 6],\n",
       " [4, 6, 9, 5, 7, 3, 2, 1, 8],\n",
       " [8, 7, 6, 5, 4, 2, 1, 3, 9]]"
      ]
     },
     "execution_count": 162,
     "metadata": {},
     "output_type": "execute_result"
    }
   ],
   "source": [
    "gs.population[1].values"
   ]
  },
  {
   "cell_type": "code",
   "execution_count": 163,
   "metadata": {},
   "outputs": [
    {
     "data": {
      "text/plain": [
       "(<__main__.Sudoku at 0x7fa4f82c4160>, <__main__.Sudoku at 0x7fa4f82c4f28>)"
      ]
     },
     "execution_count": 163,
     "metadata": {},
     "output_type": "execute_result"
    }
   ],
   "source": [
    "gs.crossover(gs.population[0], gs.population[1])"
   ]
  },
  {
   "cell_type": "code",
   "execution_count": 165,
   "metadata": {},
   "outputs": [
    {
     "data": {
      "text/plain": [
       "[[6, 8, 3, 9, 2, 1, 5, 7, 4],\n",
       " [5, 3, 4, 9, 1, 8, 2, 6, 7],\n",
       " [7, 3, 4, 6, 5, 9, 1, 8, 2],\n",
       " [4, 2, 6, 1, 3, 5, 7, 8, 9],\n",
       " [8, 5, 6, 7, 3, 9, 2, 1, 4],\n",
       " [8, 1, 9, 6, 2, 4, 3, 7, 5],\n",
       " [3, 1, 9, 4, 8, 7, 5, 2, 6],\n",
       " [7, 6, 4, 5, 1, 3, 2, 9, 8],\n",
       " [2, 5, 6, 8, 4, 7, 1, 3, 9]]"
      ]
     },
     "execution_count": 165,
     "metadata": {},
     "output_type": "execute_result"
    }
   ],
   "source": [
    "gs.mutate(gs.population[0]).values"
   ]
  },
  {
   "cell_type": "code",
   "execution_count": null,
   "metadata": {},
   "outputs": [],
   "source": []
  }
 ],
 "metadata": {
  "kernelspec": {
   "display_name": "Python 3",
   "language": "python",
   "name": "python3"
  },
  "language_info": {
   "codemirror_mode": {
    "name": "ipython",
    "version": 3
   },
   "file_extension": ".py",
   "mimetype": "text/x-python",
   "name": "python",
   "nbconvert_exporter": "python",
   "pygments_lexer": "ipython3",
   "version": "3.5.2"
  }
 },
 "nbformat": 4,
 "nbformat_minor": 2
}
