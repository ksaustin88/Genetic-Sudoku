{
 "cells": [
  {
   "cell_type": "markdown",
   "metadata": {},
   "source": [
    "Basic example of particle swarm to optimize a one-variable function."
   ]
  },
  {
   "cell_type": "code",
   "execution_count": 10,
   "metadata": {},
   "outputs": [],
   "source": [
    "import pandas as pd\n",
    "import networkx as nx\n",
    "import random"
   ]
  },
  {
   "cell_type": "code",
   "execution_count": 120,
   "metadata": {},
   "outputs": [],
   "source": [
    "# Generate the network topology - in this case, von Neumann (i.e. every node has exactly 4 neighbors)\n",
    "pop_size = 40\n",
    "num_neighbors = 4\n",
    "graph = nx.random_regular_graph(num_neighbors, pop_size)"
   ]
  },
  {
   "cell_type": "code",
   "execution_count": 106,
   "metadata": {},
   "outputs": [],
   "source": [
    "#Set the sociality (how much the node cares about the group opinion), memory(how much it cares about its personal best),\n",
    "#and stability (the tendency to stay where it is)\n",
    "sociality = 0.5\n",
    "memory = 0.3\n",
    "stability = 1 - sociality - memory"
   ]
  },
  {
   "cell_type": "code",
   "execution_count": 107,
   "metadata": {},
   "outputs": [],
   "source": [
    "def f(x):\n",
    "    return x**2"
   ]
  },
  {
   "cell_type": "code",
   "execution_count": 121,
   "metadata": {},
   "outputs": [],
   "source": [
    "# Set initial population - random numbers btween -100 and 100\n",
    "initial_values = [200*random.random() - 100 for _ in range(pop_size)]"
   ]
  },
  {
   "cell_type": "code",
   "execution_count": 122,
   "metadata": {},
   "outputs": [],
   "source": [
    "Population = pd.DataFrame({'node' : list(range(40)), 'current_value' : initial_values, 'personal_best' : initial_values})"
   ]
  },
  {
   "cell_type": "code",
   "execution_count": 123,
   "metadata": {},
   "outputs": [],
   "source": [
    "Population['fitness'] = Population.current_value.apply(f)"
   ]
  },
  {
   "cell_type": "code",
   "execution_count": 124,
   "metadata": {},
   "outputs": [],
   "source": [
    "Population['neighbors'] = Population.node.apply(lambda x: [x] + [_ for _ in graph[x]])"
   ]
  },
  {
   "cell_type": "code",
   "execution_count": 125,
   "metadata": {},
   "outputs": [],
   "source": [
    "# Find the group best - this is ugly and maybe could be cleaned up to not look so bad\n",
    "Population['group_best'] = Population.node.apply(lambda x:\n",
    "Population.loc[(Population.node.isin(Population.loc[x].neighbors)) &  \n",
    "               (Population.fitness == Population.loc[Population.node.isin(Population.loc[x].neighbors)].fitness.min())].values[0][1])\n",
    "Population['group_best_fitness'] = Population.group_best.apply(f)\n",
    "Population['personal_best_fitness'] = Population.personal_best.apply(f)"
   ]
  },
  {
   "cell_type": "code",
   "execution_count": 128,
   "metadata": {},
   "outputs": [
    {
     "name": "stdout",
     "output_type": "stream",
     "text": [
      "42.79853983066854\n"
     ]
    }
   ],
   "source": [
    "print(Population.fitness.min())"
   ]
  },
  {
   "cell_type": "code",
   "execution_count": 129,
   "metadata": {},
   "outputs": [],
   "source": [
    "def mutation(current_value):\n",
    "    x = random.random()\n",
    "    if x < .05: return 200*random.random() - 100\n",
    "    return current_value"
   ]
  },
  {
   "cell_type": "code",
   "execution_count": null,
   "metadata": {
    "scrolled": true
   },
   "outputs": [],
   "source": [
    "num_iterations = 1000\n",
    "for i in range(num_iterations):\n",
    "    #Apply crossover\n",
    "    Population.current_value = Population.apply(lambda row: stability*row.current_value + memory*row.personal_best + sociality*row.group_best, axis = 1)\n",
    "    Population.current_value = Population.current_value.apply(mutation)\n",
    "    Population.fitness = Population.current_value.apply(f)\n",
    "    Population.personal_best = Population.apply(lambda row: row.current_value if row.fitness < row.personal_best_fitness else row.personal_best, axis = 1)\n",
    "    Population['personal_best_fitness'] = Population.personal_best.apply(f)\n",
    "    # Find the group best - this is ugly and maybe could be cleaned up to not look so bad\n",
    "    Population['group_best'] = Population.node.apply(lambda x:\n",
    "    Population.loc[(Population.node.isin(Population.loc[x].neighbors)) &  \n",
    "               (Population.personal_best_fitness == Population.loc[Population.node.isin(Population.loc[x].neighbors)].personal_best_fitness.min())].values[0][2])\n",
    "    Population['group_best_fitness'] = Population.group_best.apply(f)\n",
    "\n",
    "    print(Population.fitness.min(), Population.fitness.mean())"
   ]
  },
  {
   "cell_type": "code",
   "execution_count": null,
   "metadata": {},
   "outputs": [],
   "source": []
  }
 ],
 "metadata": {
  "kernelspec": {
   "display_name": "Python 3",
   "language": "python",
   "name": "python3"
  },
  "language_info": {
   "codemirror_mode": {
    "name": "ipython",
    "version": 3
   },
   "file_extension": ".py",
   "mimetype": "text/x-python",
   "name": "python",
   "nbconvert_exporter": "python",
   "pygments_lexer": "ipython3",
   "version": "3.6.5"
  }
 },
 "nbformat": 4,
 "nbformat_minor": 2
}
